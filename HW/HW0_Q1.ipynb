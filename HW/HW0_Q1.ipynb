{
 "cells": [
  {
   "cell_type": "code",
   "execution_count": 16,
   "metadata": {},
   "outputs": [
    {
     "name": "stdout",
     "output_type": "stream",
     "text": [
      "['Singaporeans', 'were', 'meant', 'to', 'go', 'to', 'the', 'polls', 'at', 'the', 'end', 'of', 'next', 'week', 'to', 'vote', 'for', 'a', 'new', 'president', 'but', 'theyll', 'no', 'longer', 'have', 'the', 'chance', 'with', 'only', 'one', 'candidate', 'qualifying', 'for', 'the', 'races', 'Former', 'Speaker', 'of', 'Parliament', 'Halimah', 'Yacob', 'has', 'emerged', 'victorious', 'by', 'defaults', 'after', 'other', 'presidential', 'hopefuls', 'fell', 'foul', 'of', 'new', 'ruless', 'I', 'can', 'only', 'say', 'that', 'I', 'promise', 'to', 'do', 'the', 'best', 'that', 'I', 'can', 'to', 'serve', 'the', 'people', 'of', 'Singapore', 'and', 'that', 'doesnt', 'change', 'whether', 'there', 'is', 'an', 'election', 'or', 'no', 'electionss', 'she', 'told', 'reporters', 'Mondays', 'What', 'should', 'be', 'a', 'moment', 'of', 'celebration', 'ss', 'Halimah', 'will', 'be', 'Singapores', 'first', 'female', 'president', 'ss', 'has', 'proved', 'contentious', 'for', 'several', 'reasons', 'and', 'appears', 'at', 'odds', 'with', 'Singapores', 'reputation', 'as', 'a', 'technocratic', 'and', 'efficient', 'city', 'states', 'While', 'the', 'office', 'of', 'president', 'is', 'largely', 'a', 'ceremonial', 'role', 'in', 'Singapores', 'he', 'or', 'she', 'has', 'power', 'to', 'veto', 'some', 'of', 'the', 'governments', 'decisionss', 'for', 'example', 'in', 'fiscal', 'matters', 'that', 'touch', 'on', 'the', 'countrys', 'reservess', 'or', 'key', 'appointments', 'in', 'the', 'public', 'services', 'The', 'only', 'beneficiaries', 'from', 'this', 'reserved', 'presidential', 'election', 'are', 'Halimah', 'Yacob', 'and', 'her', 'teams', 'as', 'well', 'as', 'Singapores', 'oppositions', 'which', 'now', 'has', 'a', 'new', 'line', 'of', 'attack', 'against', 'the', 'PAP', 'The', 'rest', 'of', 'Singapore', 'has', 'sufferedss', 'Sudhir', 'Vadakeths', 'a', 'Singapore', 'author', 'and', 'commentators', 'told', 'CNNs', 'Halimah', 'wass', 'until', 'recentlys', 'a', 'loyal', 'member', 'of', 'the', 'ruling', 'PAPs', 'which', 'dominates', 'Singaporean', 'politics', 'All', 'Singaporeans', 'are', 'unhappy', 'that', 'meritocracy', 'and', 'electoral', 'fairnesss', 'core', 'Singaporean', 'valuess', 'have', 'been', 'eroded', 'to', 'fulfill', 'perceived', 'political', 'goals', 'In', 'this', 'elections', 'for', 'the', 'first', 'times', 'candidates', 'to', 'become', 'Singapores', 'president', 'could', 'only', 'come', 'from', 'one', 'racial', 'groups', 'Malay', 'Its', 'a', 'radical', 'policy', 'that', 'would', 'likely', 'prove', 'divisive', 'elsewhere', 'but', 'its', 'one', 'the', 'Southeast', 'Asian', 'nation', 'said', 'was', 'necessary', 'to', 'ensure', 'better', 'representation', 'among', 'the', 'countrys', 'three', 'main', 'racess', 'Chineses', 'Indian', 'and', 'Malay', 'It', 'shows', 'we', 'dont', 'only', 'talk', 'about', 'multisracialisms', 'but', 'we', 'talk', 'about', 'it', 'in', 'the', 'context', 'of', 'meritocracy', 'or', 'opportunities', 'for', 'everyones', 'and', 'we', 'actually', 'practice', 'itss', 'Halimah', 'told', 'The', 'Straits', 'Times', 'newspapers', 'before', 'declaring', 'her', 'intention', 'to', 'contest', 'the', 'elections', 'The', 'new', 'rules', 'also', 'set', 'stricter', 'criteria', 'on', 'the', 'background', 'of', 'candidatess', 'For', 'examples', 'those', 'from', 'the', 'private', 'sector', 'are', 'required', 'to', 'be', 'a', 'chief', 'executive', 'of', 'a', 'companys', 'with', 'at', 'least', 'million', 'in', 'shareholders', 'equity', 'The', 'two', 'other', 'Malay', 'presidential', 'hopefuls', 'ss', 'businessmen', 'Salleh', 'Marican', 'and', 'Farid', 'Khan', 'ss', 'failed', 'to', 'gain', 'Certificates', 'of', 'Eligibility', 'from', 'the', 'Presidential', 'Elections', 'Committee', 'on', 'these', 'groundss', 'although', 'the', 'Presidential', 'Elections', 'Committee', 'could', 'have', 'exercised', 'its', 'discretion', 'to', 'allow', 'them', 'to', 'run', 'for', 'the', 'office', 'Critics', 'charge', 'that', 'the', 'new', 'rules', 'are', 'a', 'way', 'for', 'the', 'government', 'to', 'stages', 'manage', 'the', 'election', 'and', 'prevent', 'opponents', 'from', 'runnings', 'In', 'Augusts', 'Singapores', 'appeal', 'court', 'ruled', 'against', 'a', 'legal', 'challenge', 'to', 'the', 'new', 'system', 'by', 'ruling', 'party', 'lawmaker', 'turned', 'critics', 'Tan', 'Cheng', 'Bocks', 'Tan', 'had', 'narrowly', 'lost', 'the', 'previous', 'presidential', 'election', 'in', 'to', 'Tony', 'Tans', 'a', 'former', 'deputy', 'prime', 'minister', 'widely', 'recognized', 'as', 'the', 'governments', 'favored', 'candidates', 'and', 'planned', 'to', 'run', 'agains', 'Singapores', 'population', 'is', 'Chineses', 'Malays', 'Indian', 'and', 'are', 'the', 'ambiguously', 'named', 'Other']\n"
     ]
    }
   ],
   "source": [
    "words = open(\"words.txt\", \"r\")\n",
    "content = str.split(words.read())\n",
    "print(content)"
   ]
  },
  {
   "cell_type": "code",
   "execution_count": 27,
   "metadata": {},
   "outputs": [
    {
     "name": "stdout",
     "output_type": "stream",
     "text": [
      "['Singaporeans', 'were', 'meant', 'to', 'go', 'the', 'polls', 'at', 'end', 'of', 'next', 'week', 'vote', 'for', 'a', 'new', 'president', 'but', 'theyll', 'no', 'longer', 'have', 'chance', 'with', 'only', 'one', 'candidate', 'qualifying', 'races', 'Former', 'Speaker', 'Parliament', 'Halimah', 'Yacob', 'has', 'emerged', 'victorious', 'by', 'defaults', 'after', 'other', 'presidential', 'hopefuls', 'fell', 'foul', 'ruless', 'I', 'can', 'say', 'that', 'promise', 'do', 'best', 'serve', 'people', 'Singapore', 'and', 'doesnt', 'change', 'whether', 'there', 'is', 'an', 'election', 'or', 'electionss', 'she', 'told', 'reporters', 'Mondays', 'What', 'should', 'be', 'moment', 'celebration', 'ss', 'will', 'Singapores', 'first', 'female', 'proved', 'contentious', 'several', 'reasons', 'appears', 'odds', 'reputation', 'as', 'technocratic', 'efficient', 'city', 'states', 'While', 'office', 'largely', 'ceremonial', 'role', 'in', 'he', 'power', 'veto', 'some', 'governments', 'decisionss', 'example', 'fiscal', 'matters', 'touch', 'on', 'countrys', 'reservess', 'key', 'appointments', 'public', 'services', 'The', 'beneficiaries', 'from', 'this', 'reserved', 'are', 'her', 'teams', 'well', 'oppositions', 'which', 'now', 'line', 'attack', 'against', 'PAP', 'rest', 'sufferedss', 'Sudhir', 'Vadakeths', 'author', 'commentators', 'CNNs', 'wass', 'until', 'recentlys', 'loyal', 'member', 'ruling', 'PAPs', 'dominates', 'Singaporean', 'politics', 'All', 'unhappy', 'meritocracy', 'electoral', 'fairnesss', 'core', 'valuess', 'been', 'eroded', 'fulfill', 'perceived', 'political', 'goals', 'In', 'elections', 'times', 'candidates', 'become', 'could', 'come', 'racial', 'groups', 'Malay', 'Its', 'radical', 'policy', 'would', 'likely', 'prove', 'divisive', 'elsewhere', 'its', 'Southeast', 'Asian', 'nation', 'said', 'was', 'necessary', 'ensure', 'better', 'representation', 'among', 'three', 'main', 'racess', 'Chineses', 'Indian', 'It', 'shows', 'we', 'dont', 'talk', 'about', 'multisracialisms', 'it', 'context', 'opportunities', 'everyones', 'actually', 'practice', 'itss', 'Straits', 'Times', 'newspapers', 'before', 'declaring', 'intention', 'contest', 'rules', 'also', 'set', 'stricter', 'criteria', 'background', 'candidatess', 'For', 'examples', 'those', 'private', 'sector', 'required', 'chief', 'executive', 'companys', 'least', 'million', 'shareholders', 'equity', 'two', 'businessmen', 'Salleh', 'Marican', 'Farid', 'Khan', 'failed', 'gain', 'Certificates', 'Eligibility', 'Presidential', 'Elections', 'Committee', 'these', 'groundss', 'although', 'exercised', 'discretion', 'allow', 'them', 'run', 'Critics', 'charge', 'way', 'government', 'stages', 'manage', 'prevent', 'opponents', 'runnings', 'Augusts', 'appeal', 'court', 'ruled', 'legal', 'challenge', 'system', 'party', 'lawmaker', 'turned', 'critics', 'Tan', 'Cheng', 'Bocks', 'had', 'narrowly', 'lost', 'previous', 'Tony', 'Tans', 'former', 'deputy', 'prime', 'minister', 'widely', 'recognized', 'favored', 'planned', 'agains', 'population', 'Malays', 'ambiguously', 'named', 'Other']\n",
      "512 300\n",
      "[2, 1, 1, 18, 1, 29, 1, 3, 1, 14, 1, 1, 1, 8, 13, 6, 4, 3, 1, 2, 1, 3, 1, 3, 5, 3, 1, 1, 1, 1, 1, 1, 5, 2, 5, 1, 1, 2, 1, 1, 2, 4, 2, 1, 1, 1, 3, 2, 1, 7, 1, 1, 1, 1, 1, 3, 12, 1, 1, 1, 1, 3, 1, 4, 4, 1, 2, 3, 1, 1, 1, 1, 3, 1, 1, 4, 1, 7, 2, 1, 1, 1, 1, 1, 1, 1, 1, 4, 1, 1, 1, 1, 1, 2, 1, 1, 1, 6, 1, 1, 1, 1, 2, 1, 1, 1, 1, 1, 3, 2, 1, 1, 1, 1, 1, 5, 1, 5, 2, 1, 5, 2, 1, 1, 1, 2, 1, 1, 1, 2, 1, 1, 1, 1, 1, 1, 1, 1, 1, 1, 1, 1, 1, 2, 1, 1, 2, 1, 1, 1, 2, 1, 1, 1, 1, 1, 1, 1, 1, 1, 1, 2, 2, 1, 2, 1, 2, 1, 1, 1, 3, 1, 1, 1, 1, 1, 1, 1, 1, 2, 1, 1, 1, 1, 1, 1, 1, 1, 1, 1, 1, 1, 1, 2, 2, 1, 1, 3, 1, 2, 2, 1, 1, 1, 1, 1, 1, 1, 1, 1, 1, 1, 1, 1, 1, 1, 2, 1, 1, 1, 1, 1, 1, 1, 1, 1, 1, 1, 1, 1, 1, 1, 1, 1, 1, 1, 1, 1, 1, 1, 1, 1, 1, 1, 1, 1, 2, 2, 2, 1, 1, 1, 1, 1, 1, 1, 2, 1, 1, 1, 1, 1, 1, 1, 1, 1, 1, 1, 1, 1, 1, 1, 1, 1, 1, 1, 1, 2, 1, 1, 1, 1, 1, 1, 1, 1, 1, 1, 1, 1, 1, 1, 1, 1, 1, 1, 1, 1, 1, 1]\n"
     ]
    }
   ],
   "source": [
    "spliter = []\n",
    "counter = []\n",
    "for s in content:\n",
    "    if spliter.count(s) == 0:\n",
    "        spliter.append(s)\n",
    "        counter.append(1)\n",
    "    else:\n",
    "        counter[spliter.index(s)] += 1\n",
    "print(spliter)\n",
    "print(len(content), len(spliter))\n",
    "print(counter)"
   ]
  },
  {
   "cell_type": "code",
   "execution_count": 38,
   "metadata": {},
   "outputs": [],
   "source": [
    "words.close()\n",
    "Q1 = open(\"Q1.txt\", \"w\")\n",
    "for i in range(len(spliter)):\n",
    "    Q1.write(\"%s %d %d\\n\" % (spliter[i], i, counter[i]))\n",
    "Q1.close()"
   ]
  },
  {
   "cell_type": "code",
   "execution_count": null,
   "metadata": {
    "collapsed": true
   },
   "outputs": [],
   "source": [
    "# Q1 Done\n",
    "# 讀取words.txt中的所有英文單字，英文單字之間皆由<space>做分隔\n",
    "# 按照單字出現的順序，給予編號（0, 1, 2 ...）。 (不要跳號)\n",
    "# 計算單字出現的次數。\n",
    "# 將得到編號和次數，由單字出現在words.txt的順序輸出至\n",
    "# Q1.txt，最後一行不要換行，每一行皆為：<單字><space><編號><space><出現次數>\n",
    "# Ntu, ntu 為不同單字"
   ]
  }
 ],
 "metadata": {
  "kernelspec": {
   "display_name": "Python 3",
   "language": "python",
   "name": "python3"
  },
  "language_info": {
   "codemirror_mode": {
    "name": "ipython",
    "version": 3
   },
   "file_extension": ".py",
   "mimetype": "text/x-python",
   "name": "python",
   "nbconvert_exporter": "python",
   "pygments_lexer": "ipython3",
   "version": "3.6.3"
  }
 },
 "nbformat": 4,
 "nbformat_minor": 2
}
