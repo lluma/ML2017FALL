{
 "cells": [
  {
   "cell_type": "code",
   "execution_count": 1,
   "metadata": {
    "collapsed": true
   },
   "outputs": [],
   "source": [
    "# Q2\n",
    "# 讀取 westbrook.jpg\n",
    "# 將每個pixel的RGB數值都減半（ex: (122, 244, 245）->(61, 122, 122)），再將圖片輸出為 Q2.jpg\n",
    "# RGB數值記得要去掉小數點！(無條件捨去)"
   ]
  },
  {
   "cell_type": "code",
   "execution_count": 31,
   "metadata": {},
   "outputs": [
    {
     "name": "stdout",
     "output_type": "stream",
     "text": [
      "JPEG (1920, 1080) RGB\n"
     ]
    }
   ],
   "source": [
    "from PIL import Image\n",
    "img = Image.open(\"westbrook.jpg\")\n",
    "print(img.format, img.size, img.mode)"
   ]
  },
  {
   "cell_type": "code",
   "execution_count": 34,
   "metadata": {},
   "outputs": [],
   "source": [
    "pixels = img.load()\n",
    "for i in range(img.size[0]):\n",
    "    for j in range(img.size[1]): \n",
    "        pixels[i,j] = (round(pixels[i, j][0] / 2), round(pixels[i, j][1] / 2),  round(pixels[i, j][2] / 2))\n",
    "        \n",
    "img.save(\"Q2.jpg\")\n",
    "img.close()"
   ]
  },
  {
   "cell_type": "code",
   "execution_count": 35,
   "metadata": {
    "collapsed": true
   },
   "outputs": [],
   "source": [
    "# Q2 Done"
   ]
  },
  {
   "cell_type": "code",
   "execution_count": null,
   "metadata": {
    "collapsed": true
   },
   "outputs": [],
   "source": []
  }
 ],
 "metadata": {
  "kernelspec": {
   "display_name": "Python 3",
   "language": "python",
   "name": "python3"
  },
  "language_info": {
   "codemirror_mode": {
    "name": "ipython",
    "version": 3
   },
   "file_extension": ".py",
   "mimetype": "text/x-python",
   "name": "python",
   "nbconvert_exporter": "python",
   "pygments_lexer": "ipython3",
   "version": "3.6.3"
  }
 },
 "nbformat": 4,
 "nbformat_minor": 2
}
